{
 "cells": [
  {
   "cell_type": "code",
   "execution_count": 228,
   "id": "6a167607-cde7-4eb2-9450-95342992dee4",
   "metadata": {},
   "outputs": [],
   "source": [
    "import pandas as pd\n",
    "import numpy as np"
   ]
  },
  {
   "cell_type": "code",
   "execution_count": 266,
   "id": "fce87be8-8143-4580-b2f3-de151c97bb43",
   "metadata": {},
   "outputs": [],
   "source": [
    "#task 1\n",
    "project_data = {\n",
    "    \"ID\": [\"A001\",\"A002\",\"A003\",\"A004\",\"A005\",\"A002\",\"A005\",\"A003\",\"A001\",\"A003\",\"A001\",\"A004\",\"A004\",\"A005\"],\n",
    "    \"Project\": [\"Project 1\",\"Project 2\",\"Project 3\",\"Project 4\",\"Project 5\",\"Project 6\",\"Project 7\",\"Project 8\",\"Project 9\",\"Project 10\",\"Project 11\",\"Project 12\",\"Project 13\",\"Project 14\" ],\n",
    "    \"Cost\": [1002000, 2000000, 4500000, 5500000, None,680000,400000, 350000, None,300000,2000000,1000000,3000000,200000],\n",
    "    \"Status\": [\"Finished\", \"Ongoing\", \"Finished\",\"Ongoing\",\"Finished\",\"Failed\",\"Finished\",\"Failed\",\"Ongoing\",\"Finished\",\"Failed\",\"Ongoing\",\"Finished\",\"Finished\"]\n",
    "}"
   ]
  },
  {
   "cell_type": "code",
   "execution_count": 268,
   "id": "5bc06fb2-7a9e-4d6a-89da-065d4b066d80",
   "metadata": {},
   "outputs": [],
   "source": [
    "project_df = pd.DataFrame(project_data)\n",
    "project_df.to_csv(\"project_dataframe.csv\", index=False)"
   ]
  },
  {
   "cell_type": "code",
   "execution_count": 298,
   "id": "88d8eec5-eb13-4ac0-b5b3-4b31ca0372d3",
   "metadata": {},
   "outputs": [],
   "source": [
    "employee_data ={\n",
    "    \"ID\": [\"A001\",\"A002\",\"A003\",\"A004\",\"A005\"],\n",
    "    \"Name\": [\"John Alter\", \"Alice Luxemburg\", \"Tom Sabestine\", \"Nina Adgra\", \"Amy Johny\"],\n",
    "    \"Gender\": [\"M\", \"F\", \"M\", \"F\", \"F\"],\n",
    "    \"City\": [\"Paris\", \"London\", \"Berlin\", \"Newyork\", \"Madrid\"],\n",
    "    \"Age\": [25, 27, 29, 31, 30]\n",
    "}"
   ]
  },
  {
   "cell_type": "code",
   "execution_count": 300,
   "id": "04c4c63f-d803-4d5d-ae4f-0901bc7c57bc",
   "metadata": {},
   "outputs": [],
   "source": [
    "employee_df = pd.DataFrame(employee_data)\n",
    "employee_df.to_csv(\"employee_dataframe.csv\", index =False)"
   ]
  },
  {
   "cell_type": "code",
   "execution_count": 301,
   "id": "c4e8a3cd-238f-453a-b2c6-41ca7cb23e22",
   "metadata": {},
   "outputs": [],
   "source": [
    "seniority_data ={\n",
    "    \"ID\": [\"A001\", \"A002\", \"A003\", \"A004\", \"A005\"],\n",
    "    \"Designation Level\": [2, 2, 3, 2, 3]\n",
    "}"
   ]
  },
  {
   "cell_type": "code",
   "execution_count": 303,
   "id": "075dbe5b-9856-4941-ae23-913908557c07",
   "metadata": {},
   "outputs": [],
   "source": [
    "seniority_df = pd.DataFrame(seniority_data)\n",
    "seniority_df.to_csv(\"seniority_dataframe.csv\", index=False)"
   ]
  },
  {
   "cell_type": "code",
   "execution_count": 305,
   "id": "cec0bf98-3cff-4433-8038-fbcca1a5e2d9",
   "metadata": {},
   "outputs": [],
   "source": [
    "#task 2\n",
    "running_sum = 0\n",
    "running_count = 0\n",
    "\n",
    "# filling the missing values in Cost column\n",
    "for index, row in project_df.iterrows():\n",
    "    if pd.notna(row['Cost']):\n",
    "        running_sum += row['Cost']\n",
    "        running_count += 1\n",
    "    else:\n",
    "        if running_count > 0:\n",
    "            running_average = running_sum / running_count \n",
    "            project_df.at[index, 'Cost'] = running_average\n",
    "        else:\n",
    "            project_df.at[index, 'Cost']= 0\n",
    "project_df['Cost'] = project_df['Cost'].apply(lambda x: int(x))"
   ]
  },
  {
   "cell_type": "code",
   "execution_count": 306,
   "id": "373834cb-d17a-40dd-af6b-966715d68f54",
   "metadata": {},
   "outputs": [
    {
     "name": "stdout",
     "output_type": "stream",
     "text": [
      "      ID     Project     Cost    Status\n",
      "0   A001   Project 1  1002000  Finished\n",
      "1   A002   Project 2  2000000   Ongoing\n",
      "2   A003   Project 3  4500000  Finished\n",
      "3   A004   Project 4  5500000   Ongoing\n",
      "4   A005   Project 5  3250500  Finished\n",
      "5   A002   Project 6   680000    Failed\n",
      "6   A005   Project 7   400000  Finished\n",
      "7   A003   Project 8   350000    Failed\n",
      "8   A001   Project 9  2061714   Ongoing\n",
      "9   A003  Project 10   300000  Finished\n",
      "10  A001  Project 11  2000000    Failed\n",
      "11  A004  Project 12  1000000   Ongoing\n",
      "12  A004  Project 13  3000000  Finished\n",
      "13  A005  Project 14   200000  Finished\n"
     ]
    }
   ],
   "source": [
    "print(project_df)"
   ]
  },
  {
   "cell_type": "code",
   "execution_count": 308,
   "id": "7c707f7a-abe9-4676-b6d5-fe93cefc4514",
   "metadata": {},
   "outputs": [],
   "source": [
    "#task 3\n",
    "\n",
    "#this will split the name column\n",
    "employee_df[['First Name', ' Last Name']] = employee_df['Name'].str.split(' ', n=1, expand= True)\n",
    "# this code will drop the name column\n",
    "employee_df = employee_df.drop('Name', axis=1)"
   ]
  },
  {
   "cell_type": "code",
   "execution_count": 312,
   "id": "9c301313-272a-411b-aeab-9fa7f1d7fcb1",
   "metadata": {},
   "outputs": [
    {
     "name": "stdout",
     "output_type": "stream",
     "text": [
      "     ID Gender     City  Age First Name  Last Name\n",
      "0  A001      M    Paris   25       John      Alter\n",
      "1  A002      F   London   27      Alice  Luxemburg\n",
      "2  A003      M   Berlin   29        Tom  Sabestine\n",
      "3  A004      F  Newyork   31       Nina      Adgra\n",
      "4  A005      F   Madrid   30        Amy      Johny\n"
     ]
    }
   ],
   "source": [
    "print(employee_df)"
   ]
  },
  {
   "cell_type": "code",
   "execution_count": 314,
   "id": "83da5f54-9c0a-4957-b7c0-24e4b55d5f65",
   "metadata": {},
   "outputs": [],
   "source": [
    "#task 4\n",
    "\n",
    "#merging all the data as final:\n",
    "merged_df = pd.merge(employee_df, seniority_df, on=\"ID\")\n",
    "final_df = pd.merge(merged_df, project_df, on=\"ID\")"
   ]
  },
  {
   "cell_type": "code",
   "execution_count": 316,
   "id": "c99bef0b-6340-4e9d-9f2d-3367ae1001bb",
   "metadata": {},
   "outputs": [
    {
     "name": "stdout",
     "output_type": "stream",
     "text": [
      "      ID Gender     City  Age First Name  Last Name  Designation Level  \\\n",
      "0   A001      M    Paris   25       John      Alter                  2   \n",
      "1   A001      M    Paris   25       John      Alter                  2   \n",
      "2   A001      M    Paris   25       John      Alter                  2   \n",
      "3   A002      F   London   27      Alice  Luxemburg                  2   \n",
      "4   A002      F   London   27      Alice  Luxemburg                  2   \n",
      "5   A003      M   Berlin   29        Tom  Sabestine                  3   \n",
      "6   A003      M   Berlin   29        Tom  Sabestine                  3   \n",
      "7   A003      M   Berlin   29        Tom  Sabestine                  3   \n",
      "8   A004      F  Newyork   31       Nina      Adgra                  2   \n",
      "9   A004      F  Newyork   31       Nina      Adgra                  2   \n",
      "10  A004      F  Newyork   31       Nina      Adgra                  2   \n",
      "11  A005      F   Madrid   30        Amy      Johny                  3   \n",
      "12  A005      F   Madrid   30        Amy      Johny                  3   \n",
      "13  A005      F   Madrid   30        Amy      Johny                  3   \n",
      "\n",
      "       Project     Cost    Status  \n",
      "0    Project 1  1002000  Finished  \n",
      "1    Project 9  2061714   Ongoing  \n",
      "2   Project 11  2000000    Failed  \n",
      "3    Project 2  2000000   Ongoing  \n",
      "4    Project 6   680000    Failed  \n",
      "5    Project 3  4500000  Finished  \n",
      "6    Project 8   350000    Failed  \n",
      "7   Project 10   300000  Finished  \n",
      "8    Project 4  5500000   Ongoing  \n",
      "9   Project 12  1000000   Ongoing  \n",
      "10  Project 13  3000000  Finished  \n",
      "11   Project 5  3250500  Finished  \n",
      "12   Project 7   400000  Finished  \n",
      "13  Project 14   200000  Finished  \n"
     ]
    }
   ],
   "source": [
    "print(final_df)"
   ]
  },
  {
   "cell_type": "code",
   "execution_count": 318,
   "id": "b339a8aa-c625-407c-be51-57dbfc79f796",
   "metadata": {},
   "outputs": [
    {
     "name": "stdout",
     "output_type": "stream",
     "text": [
      "      ID Gender     City  Age First Name  Last Name  Designation Level  \\\n",
      "0   A001      M    Paris   25       John      Alter                  2   \n",
      "1   A001      M    Paris   25       John      Alter                  2   \n",
      "2   A001      M    Paris   25       John      Alter                  2   \n",
      "3   A002      F   London   27      Alice  Luxemburg                  2   \n",
      "4   A002      F   London   27      Alice  Luxemburg                  2   \n",
      "5   A003      M   Berlin   29        Tom  Sabestine                  3   \n",
      "6   A003      M   Berlin   29        Tom  Sabestine                  3   \n",
      "7   A003      M   Berlin   29        Tom  Sabestine                  3   \n",
      "8   A004      F  Newyork   31       Nina      Adgra                  2   \n",
      "9   A004      F  Newyork   31       Nina      Adgra                  2   \n",
      "10  A004      F  Newyork   31       Nina      Adgra                  2   \n",
      "11  A005      F   Madrid   30        Amy      Johny                  3   \n",
      "12  A005      F   Madrid   30        Amy      Johny                  3   \n",
      "13  A005      F   Madrid   30        Amy      Johny                  3   \n",
      "\n",
      "       Project     Cost    Status     Bonus  \n",
      "0    Project 1  1002000  Finished   50100.0  \n",
      "1    Project 9  2061714   Ongoing       0.0  \n",
      "2   Project 11  2000000    Failed       0.0  \n",
      "3    Project 2  2000000   Ongoing       0.0  \n",
      "4    Project 6   680000    Failed       0.0  \n",
      "5    Project 3  4500000  Finished  225000.0  \n",
      "6    Project 8   350000    Failed       0.0  \n",
      "7   Project 10   300000  Finished   15000.0  \n",
      "8    Project 4  5500000   Ongoing       0.0  \n",
      "9   Project 12  1000000   Ongoing       0.0  \n",
      "10  Project 13  3000000  Finished  150000.0  \n",
      "11   Project 5  3250500  Finished  162525.0  \n",
      "12   Project 7   400000  Finished   20000.0  \n",
      "13  Project 14   200000  Finished   10000.0  \n"
     ]
    }
   ],
   "source": [
    "#task 5\n",
    "#adding bonus column in the final dataframe\n",
    "\n",
    "final_df['Bonus']= final_df.apply(\n",
    "    lambda row: 0.05 * row['Cost'] if row['Status'] == 'Finished' else 0,\n",
    "    axis=1\n",
    ")\n",
    "print(final_df)"
   ]
  },
  {
   "cell_type": "code",
   "execution_count": 320,
   "id": "0ea3e1e0-fff1-427f-9145-bcf70637822e",
   "metadata": {},
   "outputs": [
    {
     "name": "stdout",
     "output_type": "stream",
     "text": [
      "      ID Gender     City  Age First Name  Last Name  Designation Level  \\\n",
      "0   A001      M    Paris   25       John      Alter                  2   \n",
      "1   A001      M    Paris   25       John      Alter                  2   \n",
      "2   A001      M    Paris   25       John      Alter                  1   \n",
      "3   A002      F   London   27      Alice  Luxemburg                  2   \n",
      "4   A002      F   London   27      Alice  Luxemburg                  1   \n",
      "5   A003      M   Berlin   29        Tom  Sabestine                  3   \n",
      "6   A003      M   Berlin   29        Tom  Sabestine                  2   \n",
      "7   A003      M   Berlin   29        Tom  Sabestine                  3   \n",
      "8   A004      F  Newyork   31       Nina      Adgra                  2   \n",
      "9   A004      F  Newyork   31       Nina      Adgra                  2   \n",
      "10  A004      F  Newyork   31       Nina      Adgra                  2   \n",
      "11  A005      F   Madrid   30        Amy      Johny                  3   \n",
      "12  A005      F   Madrid   30        Amy      Johny                  3   \n",
      "13  A005      F   Madrid   30        Amy      Johny                  3   \n",
      "\n",
      "       Project     Cost    Status     Bonus  \n",
      "0    Project 1  1002000  Finished   50100.0  \n",
      "1    Project 9  2061714   Ongoing       0.0  \n",
      "2   Project 11  2000000    Failed       0.0  \n",
      "3    Project 2  2000000   Ongoing       0.0  \n",
      "4    Project 6   680000    Failed       0.0  \n",
      "5    Project 3  4500000  Finished  225000.0  \n",
      "6    Project 8   350000    Failed       0.0  \n",
      "7   Project 10   300000  Finished   15000.0  \n",
      "8    Project 4  5500000   Ongoing       0.0  \n",
      "9   Project 12  1000000   Ongoing       0.0  \n",
      "10  Project 13  3000000  Finished  150000.0  \n",
      "11   Project 5  3250500  Finished  162525.0  \n",
      "12   Project 7   400000  Finished   20000.0  \n",
      "13  Project 14   200000  Finished   10000.0  \n"
     ]
    }
   ],
   "source": [
    "#task 6\n",
    "#demote the designation level by 1, whose projects have status failed\n",
    "\n",
    "final_df.loc[final_df['Status'] == \"Failed\", 'Designation Level'] -=1\n",
    "final_df['Designation Level'] = final_df['Designation Level'].clip(lower=1)\n",
    "\n",
    "final_df = final_df[final_df['Designation Level'] <= 4]\n",
    "\n",
    "print(final_df)"
   ]
  },
  {
   "cell_type": "code",
   "execution_count": 328,
   "id": "ead8d7bc-49ab-4e7e-8b26-9095539747c7",
   "metadata": {},
   "outputs": [
    {
     "name": "stdout",
     "output_type": "stream",
     "text": [
      "      ID     City  Age First Name  Last Name  Designation Level     Project  \\\n",
      "0   A001    Paris   25       John      Alter                  2   Project 1   \n",
      "1   A001    Paris   25       John      Alter                  2   Project 9   \n",
      "2   A001    Paris   25       John      Alter                  1  Project 11   \n",
      "3   A002   London   27      Alice  Luxemburg                  2   Project 2   \n",
      "4   A002   London   27      Alice  Luxemburg                  1   Project 6   \n",
      "5   A003   Berlin   29        Tom  Sabestine                  3   Project 3   \n",
      "6   A003   Berlin   29        Tom  Sabestine                  2   Project 8   \n",
      "7   A003   Berlin   29        Tom  Sabestine                  3  Project 10   \n",
      "8   A004  Newyork   31       Nina      Adgra                  2   Project 4   \n",
      "9   A004  Newyork   31       Nina      Adgra                  2  Project 12   \n",
      "10  A004  Newyork   31       Nina      Adgra                  2  Project 13   \n",
      "11  A005   Madrid   30        Amy      Johny                  3   Project 5   \n",
      "12  A005   Madrid   30        Amy      Johny                  3   Project 7   \n",
      "13  A005   Madrid   30        Amy      Johny                  3  Project 14   \n",
      "\n",
      "       Cost    Status     Bonus  \n",
      "0   1002000  Finished   50100.0  \n",
      "1   2061714   Ongoing       0.0  \n",
      "2   2000000    Failed       0.0  \n",
      "3   2000000   Ongoing       0.0  \n",
      "4    680000    Failed       0.0  \n",
      "5   4500000  Finished  225000.0  \n",
      "6    350000    Failed       0.0  \n",
      "7    300000  Finished   15000.0  \n",
      "8   5500000   Ongoing       0.0  \n",
      "9   1000000   Ongoing       0.0  \n",
      "10  3000000  Finished  150000.0  \n",
      "11  3250500  Finished  162525.0  \n",
      "12   400000  Finished   20000.0  \n",
      "13   200000  Finished   10000.0  \n"
     ]
    }
   ],
   "source": [
    "#task 7\n",
    "# add Mr and Mrs to first name\n",
    "\n",
    "final_df.loc[final_df['Gender'] == 'Male', 'First Name'] = 'Mr. ' + final_df['First Name']\n",
    "final_df.loc[final_df['Gender'] == 'Female', 'First Name'] = 'Mrs. ' + final_df['First Name']\n",
    "\n",
    "final_df = final_df.drop(columns =['Gender'])\n",
    "\n",
    "print(final_df)"
   ]
  },
  {
   "cell_type": "code",
   "execution_count": 260,
   "id": "796682c5-8dd4-498e-85c9-85a7534ac591",
   "metadata": {},
   "outputs": [
    {
     "name": "stdout",
     "output_type": "stream",
     "text": [
      "Index(['ID', 'City', 'Age', 'First Name', ' Last Name', 'Designation Level',\n",
      "       'Project', 'Cost', 'Status', 'Bonus'],\n",
      "      dtype='object')\n"
     ]
    }
   ],
   "source": [
    "print(final_df.columns)"
   ]
  },
  {
   "cell_type": "code",
   "execution_count": 332,
   "id": "177dd3c8-73bf-4b65-b571-642fa2189a42",
   "metadata": {},
   "outputs": [
    {
     "name": "stdout",
     "output_type": "stream",
     "text": [
      "      ID     City  Age First Name  Last Name  Designation Level     Project  \\\n",
      "0   A001    Paris   25       John      Alter                  2   Project 1   \n",
      "1   A001    Paris   25       John      Alter                  2   Project 9   \n",
      "2   A001    Paris   25       John      Alter                  1  Project 11   \n",
      "3   A002   London   27      Alice  Luxemburg                  2   Project 2   \n",
      "4   A002   London   27      Alice  Luxemburg                  1   Project 6   \n",
      "5   A003   Berlin   29        Tom  Sabestine                  3   Project 3   \n",
      "6   A003   Berlin   29        Tom  Sabestine                  2   Project 8   \n",
      "7   A003   Berlin   29        Tom  Sabestine                  3  Project 10   \n",
      "8   A004  Newyork   31       Nina      Adgra                  4   Project 4   \n",
      "9   A004  Newyork   31       Nina      Adgra                  4  Project 12   \n",
      "10  A004  Newyork   31       Nina      Adgra                  4  Project 13   \n",
      "11  A005   Madrid   30        Amy      Johny                  5   Project 5   \n",
      "12  A005   Madrid   30        Amy      Johny                  5   Project 7   \n",
      "13  A005   Madrid   30        Amy      Johny                  5  Project 14   \n",
      "\n",
      "       Cost    Status     Bonus  \n",
      "0   1002000  Finished   50100.0  \n",
      "1   2061714   Ongoing       0.0  \n",
      "2   2000000    Failed       0.0  \n",
      "3   2000000   Ongoing       0.0  \n",
      "4    680000    Failed       0.0  \n",
      "5   4500000  Finished  225000.0  \n",
      "6    350000    Failed       0.0  \n",
      "7    300000  Finished   15000.0  \n",
      "8   5500000   Ongoing       0.0  \n",
      "9   1000000   Ongoing       0.0  \n",
      "10  3000000  Finished  150000.0  \n",
      "11  3250500  Finished  162525.0  \n",
      "12   400000  Finished   20000.0  \n",
      "13   200000  Finished   10000.0  \n"
     ]
    }
   ],
   "source": [
    "#task 8\n",
    "#promote designation level by 1\n",
    "\n",
    "final_df.loc[final_df['Age'] > 29, 'Designation Level'] += 1\n",
    "\n",
    "print(final_df)"
   ]
  },
  {
   "cell_type": "code",
   "execution_count": 336,
   "id": "e90c547b-a5f1-467b-a924-83dc980ce94e",
   "metadata": {},
   "outputs": [
    {
     "name": "stdout",
     "output_type": "stream",
     "text": [
      "     ID First Name  Total Cost\n",
      "0  A001       John     5063714\n",
      "1  A002      Alice     2680000\n",
      "2  A003        Tom     5150000\n",
      "3  A004       Nina     9500000\n",
      "4  A005        Amy     3850500\n"
     ]
    }
   ],
   "source": [
    "#task 9\n",
    "#adding the cost of all projects by each employee\n",
    "\n",
    "TotalProjCost = final_df.groupby(['ID', 'First Name'], as_index=False)['Cost'].sum()\n",
    "TotalProjCost.rename(columns={'Cost': 'Total Cost'}, inplace=True)\n",
    "\n",
    "print(TotalProjCost)"
   ]
  },
  {
   "cell_type": "code",
   "execution_count": 338,
   "id": "705f2637-57f1-4ba7-a617-c9dfd6c346e2",
   "metadata": {},
   "outputs": [
    {
     "name": "stdout",
     "output_type": "stream",
     "text": [
      "      ID     City  Age First Name  Last Name  Designation Level     Project  \\\n",
      "3   A002   London   27      Alice  Luxemburg                  2   Project 2   \n",
      "4   A002   London   27      Alice  Luxemburg                  1   Project 6   \n",
      "8   A004  Newyork   31       Nina      Adgra                  4   Project 4   \n",
      "9   A004  Newyork   31       Nina      Adgra                  4  Project 12   \n",
      "10  A004  Newyork   31       Nina      Adgra                  4  Project 13   \n",
      "\n",
      "       Cost    Status     Bonus  \n",
      "3   2000000   Ongoing       0.0  \n",
      "4    680000    Failed       0.0  \n",
      "8   5500000   Ongoing       0.0  \n",
      "9   1000000   Ongoing       0.0  \n",
      "10  3000000  Finished  150000.0  \n"
     ]
    }
   ],
   "source": [
    "#task 10\n",
    "# print all the city names which contains the letter \"o\" in it\n",
    "\n",
    "filtered_df = final_df[final_df['City'].str.contains('o', case=False, na=False)]\n",
    "\n",
    "print(filtered_df)"
   ]
  },
  {
   "cell_type": "code",
   "execution_count": null,
   "id": "3fd822b1-6fc6-4d9d-87cb-13c0edc30200",
   "metadata": {},
   "outputs": [],
   "source": []
  }
 ],
 "metadata": {
  "kernelspec": {
   "display_name": "Python [conda env:base] *",
   "language": "python",
   "name": "conda-base-py"
  },
  "language_info": {
   "codemirror_mode": {
    "name": "ipython",
    "version": 3
   },
   "file_extension": ".py",
   "mimetype": "text/x-python",
   "name": "python",
   "nbconvert_exporter": "python",
   "pygments_lexer": "ipython3",
   "version": "3.12.7"
  }
 },
 "nbformat": 4,
 "nbformat_minor": 5
}
